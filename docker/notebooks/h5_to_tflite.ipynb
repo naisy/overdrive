{
 "cells": [
  {
   "cell_type": "code",
   "execution_count": null,
   "id": "f895e812-b271-445b-bc92-12454b6f7530",
   "metadata": {},
   "outputs": [],
   "source": [
    "import tensorflow as tf\n",
    "\n",
    "MODEL = \"linear\"\n",
    "# HDF5形式のモデルを読み込む\n",
    "model = tf.keras.models.load_model(MODEL+'.h5')\n",
    "# TensorFlow Liteコンバータのインスタンスを作成\n",
    "converter = tf.lite.TFLiteConverter.from_keras_model(model)\n",
    "\n",
    "# モデルを変換\n",
    "tflite_model = converter.convert()\n",
    "# 変換されたモデルをファイルに保存\n",
    "with open(MODEL+'.tflite', 'wb') as f:\n",
    "    f.write(tflite_model)"
   ]
  },
  {
   "cell_type": "code",
   "execution_count": null,
   "id": "ba98c505-4c66-49cb-843f-d6024d7a4477",
   "metadata": {},
   "outputs": [],
   "source": []
  }
 ],
 "metadata": {
  "kernelspec": {
   "display_name": "Python 3 (ipykernel)",
   "language": "python",
   "name": "python3"
  },
  "language_info": {
   "codemirror_mode": {
    "name": "ipython",
    "version": 3
   },
   "file_extension": ".py",
   "mimetype": "text/x-python",
   "name": "python",
   "nbconvert_exporter": "python",
   "pygments_lexer": "ipython3",
   "version": "3.8.10"
  }
 },
 "nbformat": 4,
 "nbformat_minor": 5
}

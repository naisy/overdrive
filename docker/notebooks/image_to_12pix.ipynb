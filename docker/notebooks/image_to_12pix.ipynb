{
 "cells": [
  {
   "cell_type": "code",
   "execution_count": 1,
   "id": "b333635c-51e0-43a2-bb38-3f679cc56c55",
   "metadata": {},
   "outputs": [
    {
     "name": "stderr",
     "output_type": "stream",
     "text": [
      "Processing images: 100%|███████████████████████████████████████████████████████████████████████████████████████████████████████████| 3219/3219 [00:01<00:00, 3208.35it/s]"
     ]
    },
    {
     "name": "stdout",
     "output_type": "stream",
     "text": [
      "finish\n"
     ]
    },
    {
     "name": "stderr",
     "output_type": "stream",
     "text": [
      "\n"
     ]
    }
   ],
   "source": [
    "import os\n",
    "from PIL import Image\n",
    "from tqdm import tqdm\n",
    "\n",
    "# 元の画像があるディレクトリの名前を変更\n",
    "if os.path.exists(\"data/images\"):\n",
    "    os.rename(\"data/images\", \"data/images_org\")\n",
    "\n",
    "# 変更後の画像ディレクトリ\n",
    "input_directory = \"data/images_org/\"\n",
    "\n",
    "# 保存するディレクトリ\n",
    "output_directory = \"data/images/\"\n",
    "\n",
    "# 保存先ディレクトリが存在しない場合、作成\n",
    "if not os.path.exists(output_directory):\n",
    "    os.makedirs(output_directory)\n",
    "\n",
    "# ディレクトリ内のjpgファイルを取得\n",
    "all_files = [f for f in os.listdir(input_directory) if f.endswith(\".jpg\")]\n",
    "\n",
    "resize = True\n",
    "# ディレクトリ内のjpgファイルを取得\n",
    "for filename in tqdm(all_files, desc=\"Processing images\"):\n",
    "    image_path = os.path.join(input_directory, filename)\n",
    "    with Image.open(image_path) as img:\n",
    "        width, height = img.size\n",
    "        # 画像の下12ピクセルを切り取る\n",
    "        cropped = img.crop((0, height - 12, width, height))\n",
    "\n",
    "        if resize:\n",
    "            # リサイズする新しいサイズを計算\n",
    "            new_size = (width * 2, 12 * 2)  # 幅と切り取った高さの2倍\n",
    "            # 画像をリサイズ\n",
    "            resized = cropped.resize(new_size)\n",
    "            resized.save(os.path.join(output_directory, filename))\n",
    "        else:\n",
    "            cropped.save(os.path.join(output_directory, filename))\n",
    "\n",
    "print(\"finish\")"
   ]
  },
  {
   "cell_type": "code",
   "execution_count": null,
   "id": "beffa334-d69a-44d4-8790-4799471e06a4",
   "metadata": {},
   "outputs": [],
   "source": []
  }
 ],
 "metadata": {
  "kernelspec": {
   "display_name": "Python 3 (ipykernel)",
   "language": "python",
   "name": "python3"
  },
  "language_info": {
   "codemirror_mode": {
    "name": "ipython",
    "version": 3
   },
   "file_extension": ".py",
   "mimetype": "text/x-python",
   "name": "python",
   "nbconvert_exporter": "python",
   "pygments_lexer": "ipython3",
   "version": "3.8.10"
  }
 },
 "nbformat": 4,
 "nbformat_minor": 5
}
